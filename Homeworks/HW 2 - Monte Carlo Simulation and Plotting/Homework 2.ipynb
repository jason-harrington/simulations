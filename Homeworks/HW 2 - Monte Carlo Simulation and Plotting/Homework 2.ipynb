{
 "cells": [
  {
   "metadata": {},
   "cell_type": "markdown",
   "source": [
    "# Simulations HW 2\n",
    "\n",
    "### Part 2 - Seasonal Bouy Data Representation"
   ],
   "id": "cc08ed18eaaa7579"
  },
  {
   "cell_type": "code",
   "id": "initial_id",
   "metadata": {
    "collapsed": true,
    "ExecuteTime": {
     "end_time": "2024-09-08T03:40:10.582805Z",
     "start_time": "2024-09-08T03:40:10.576081Z"
    }
   },
   "source": [
    "import matplotlib.pyplot as plt\n",
    "import numpy as np\n",
    "import pandas as pd"
   ],
   "outputs": [],
   "execution_count": 15
  },
  {
   "metadata": {
    "ExecuteTime": {
     "end_time": "2024-09-09T01:00:43.423662Z",
     "start_time": "2024-09-09T01:00:43.408614Z"
    }
   },
   "cell_type": "code",
   "source": [
    "df = pd.read_csv(r'HW 2 - Monte Carlo Simulation and Plotting/Sims_HW2_data_seasonalbouys.csv', header = None)\n",
    "sorted_df = df.sort_values(by = 0)\n",
    "sorted_df"
   ],
   "id": "7a31e6049f611786",
   "outputs": [
    {
     "data": {
      "text/plain": [
       "48     80.0\n",
       "21     85.1\n",
       "68     89.5\n",
       "44    102.0\n",
       "22    103.2\n",
       "      ...  \n",
       "82    241.3\n",
       "7     253.8\n",
       "34    255.0\n",
       "57    256.2\n",
       "75    264.0\n",
       "Name: 0, Length: 100, dtype: float64"
      ]
     },
     "execution_count": 38,
     "metadata": {},
     "output_type": "execute_result"
    }
   ],
   "execution_count": 38
  },
  {
   "metadata": {},
   "cell_type": "markdown",
   "source": "#### Median",
   "id": "c8737f66da44c08a"
  },
  {
   "metadata": {
    "ExecuteTime": {
     "end_time": "2024-09-09T01:09:50.509351Z",
     "start_time": "2024-09-09T01:09:50.503148Z"
    }
   },
   "cell_type": "code",
   "source": "print(np.quantile(sorted_df, .5))",
   "id": "883b276fc2d58089",
   "outputs": [
    {
     "name": "stdout",
     "output_type": "stream",
     "text": [
      "186.5\n"
     ]
    }
   ],
   "execution_count": 66
  },
  {
   "metadata": {},
   "cell_type": "markdown",
   "source": "#### Q1",
   "id": "aef676f2e48ca93b"
  },
  {
   "metadata": {
    "ExecuteTime": {
     "end_time": "2024-09-09T01:09:51.241602Z",
     "start_time": "2024-09-09T01:09:51.238176Z"
    }
   },
   "cell_type": "code",
   "source": "print(np.quantile(sorted_df[:50], .5))",
   "id": "55293141d13ad5e5",
   "outputs": [
    {
     "name": "stdout",
     "output_type": "stream",
     "text": [
      "156.3\n"
     ]
    }
   ],
   "execution_count": 67
  },
  {
   "metadata": {},
   "cell_type": "markdown",
   "source": "#### Q3",
   "id": "333668bf5828490"
  },
  {
   "metadata": {
    "ExecuteTime": {
     "end_time": "2024-09-09T01:10:14.405822Z",
     "start_time": "2024-09-09T01:10:14.401674Z"
    }
   },
   "cell_type": "code",
   "source": "print(round(np.quantile(sorted_df[50:], .5),1)) #getting some kind of float error 206.10000000000002",
   "id": "43e8abd92b39366d",
   "outputs": [
    {
     "name": "stdout",
     "output_type": "stream",
     "text": [
      "206.1\n"
     ]
    }
   ],
   "execution_count": 71
  },
  {
   "metadata": {},
   "cell_type": "markdown",
   "source": "### min",
   "id": "6b3bf42079077bf0"
  },
  {
   "metadata": {
    "ExecuteTime": {
     "end_time": "2024-09-09T01:10:35.822136Z",
     "start_time": "2024-09-09T01:10:35.817984Z"
    }
   },
   "cell_type": "code",
   "source": "min(sorted_df)",
   "id": "5f376d1547d14a9a",
   "outputs": [
    {
     "data": {
      "text/plain": [
       "80.0"
      ]
     },
     "execution_count": 72,
     "metadata": {},
     "output_type": "execute_result"
    }
   ],
   "execution_count": 72
  },
  {
   "metadata": {},
   "cell_type": "markdown",
   "source": "#### max",
   "id": "5f81746841332f88"
  },
  {
   "metadata": {
    "ExecuteTime": {
     "end_time": "2024-09-09T01:10:37.068893Z",
     "start_time": "2024-09-09T01:10:37.065772Z"
    }
   },
   "cell_type": "code",
   "source": "max(sorted_df)",
   "id": "28a7b1cdaca57632",
   "outputs": [
    {
     "data": {
      "text/plain": [
       "264.0"
      ]
     },
     "execution_count": 73,
     "metadata": {},
     "output_type": "execute_result"
    }
   ],
   "execution_count": 73
  },
  {
   "metadata": {},
   "cell_type": "markdown",
   "source": "#### Pandas Describe Function",
   "id": "1f07385796ce674e"
  },
  {
   "metadata": {
    "ExecuteTime": {
     "end_time": "2024-09-09T14:35:56.818741Z",
     "start_time": "2024-09-09T14:35:56.702062Z"
    }
   },
   "cell_type": "code",
   "source": "sorted_df.describe()",
   "id": "f8147197c67c8ce3",
   "outputs": [
    {
     "data": {
      "text/plain": [
       "count    100.000000\n",
       "mean     180.506000\n",
       "std       40.448443\n",
       "min       80.000000\n",
       "25%      156.750000\n",
       "50%      186.500000\n",
       "75%      205.950000\n",
       "max      264.000000\n",
       "Name: 0, dtype: float64"
      ]
     },
     "execution_count": 74,
     "metadata": {},
     "output_type": "execute_result"
    }
   ],
   "execution_count": 74
  },
  {
   "metadata": {},
   "cell_type": "markdown",
   "source": "#### Density Histogram",
   "id": "f71a75c9d7b8980c"
  },
  {
   "metadata": {
    "ExecuteTime": {
     "end_time": "2024-09-09T01:07:34.014056Z",
     "start_time": "2024-09-09T01:07:33.853052Z"
    }
   },
   "cell_type": "code",
   "source": [
    "fix, ax = plt.subplots()\n",
    "ax.hist(sorted_df, bins = 10, density = True)\n",
    "ax.set_title('Density Histogram for Seasonal Buoy Data')\n",
    "ax.set_xlabel('x')\n",
    "ax.set_ylabel('density')"
   ],
   "id": "cd0aa695b9663c1e",
   "outputs": [
    {
     "data": {
      "text/plain": [
       "Text(0, 0.5, 'density')"
      ]
     },
     "execution_count": 63,
     "metadata": {},
     "output_type": "execute_result"
    },
    {
     "data": {
      "text/plain": [
       "<Figure size 640x480 with 1 Axes>"
      ],
      "image/png": "[encoded data removed]"
     },
     "metadata": {},
     "output_type": "display_data"
    }
   ],
   "execution_count": 63
  },
  {
   "metadata": {},
   "cell_type": "markdown",
   "source": "### boxplot",
   "id": "edb3b45794508540"
  },
  {
   "metadata": {
    "ExecuteTime": {
     "end_time": "2024-09-09T01:08:08.329472Z",
     "start_time": "2024-09-09T01:08:08.116837Z"
    }
   },
   "cell_type": "code",
   "source": "plt.boxplot(sorted_df)",
   "id": "3edbd5b77141bb9b",
   "outputs": [
    {
     "data": {
      "text/plain": [
       "{'whiskers': [<matplotlib.lines.Line2D at 0x117924c10>,\n",
       "  <matplotlib.lines.Line2D at 0x117a222e0>],\n",
       " 'caps': [<matplotlib.lines.Line2D at 0x117a22580>,\n",
       "  <matplotlib.lines.Line2D at 0x117a22820>],\n",
       " 'boxes': [<matplotlib.lines.Line2D at 0x1178b3d00>],\n",
       " 'medians': [<matplotlib.lines.Line2D at 0x117a22ac0>],\n",
       " 'fliers': [<matplotlib.lines.Line2D at 0x117a22d60>],\n",
       " 'means': []}"
      ]
     },
     "execution_count": 64,
     "metadata": {},
     "output_type": "execute_result"
    },
    {
     "data": {
      "text/plain": [
       "<Figure size 640x480 with 1 Axes>"
      ],
      "image/png": "[encoded data removed]"
     },
     "metadata": {},
     "output_type": "display_data"
    }
   ],
   "execution_count": 64
  },
  {
   "metadata": {},
   "cell_type": "code",
   "outputs": [],
   "execution_count": null,
   "source": "",
   "id": "3f1b91f406e3a625"
  }
 ],
 "metadata": {
  "kernelspec": {
   "display_name": "Python 3",
   "language": "python",
   "name": "python3"
  },
  "language_info": {
   "codemirror_mode": {
    "name": "ipython",
    "version": 2
   },
   "file_extension": ".py",
   "mimetype": "text/x-python",
   "name": "python",
   "nbconvert_exporter": "python",
   "pygments_lexer": "ipython2",
   "version": "2.7.6"
  }
 },
 "nbformat": 4,
 "nbformat_minor": 5
}
