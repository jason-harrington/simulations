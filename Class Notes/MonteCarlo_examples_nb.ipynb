{
 "cells": [
  {
   "cell_type": "markdown",
   "id": "167796c0-d6ba-4756-8c9c-e4988c0402fb",
   "metadata": {},
   "source": [
    "### <center> Python code for Monte Carlo lecture notes examples </center>"
   ]
  },
  {
   "cell_type": "markdown",
   "id": "109a0a53-28d1-496b-8c9b-735d456b5df7",
   "metadata": {},
   "source": [
    "__Example 1:__ Three men and two women sit in a row of chairs in a random order. Use Monte\n",
    "Carlo simulation to estimate the probability that men and women alternate."
   ]
  },
  {
   "cell_type": "code",
   "execution_count": null,
   "id": "c70a38fa-391d-4d64-9279-1ba7575c9acf",
   "metadata": {},
   "outputs": [],
   "source": [
    "import random as rd\n",
    "import numpy as np\n",
    "import pandas as pd\n",
    "\n",
    "for trial in range(10): # We do 10 trials of the simulation \n",
    "    numberIterations = 100000 # This is the number of iterations for each simulation.\n",
    "    count=0\n",
    "    mwlist=[\"M\", \"M\", \"M\", \"W\", \"W\"]\n",
    "    for i in range(numberIterations):\n",
    "        rd.shuffle(mwlist)\n",
    "        if mwlist==['M', 'W', 'M', 'W', 'M']:\n",
    "            count=count+1\n",
    "    print(\"Estimated probabilty = \",count/numberIterations)"
   ]
  },
  {
   "cell_type": "markdown",
   "id": "f5abd0a3-350b-437e-ba52-1b5a6558ae5d",
   "metadata": {},
   "source": []
  },
  {
   "cell_type": "markdown",
   "id": "36d91f84-4fc6-4ef0-a7aa-c9087dfbe555",
   "metadata": {},
   "source": [
    "__Example 2__: Russell is taking a rectilinear walk from point H (home) to point W (work) along the grid lines shown below. Assuming all of the paths of length 21 from point H to point W (that is, he doesn’t go out of his way and each square on the grid is 1x1), are equally likely, use Monte Carlo simulation to estimate the probability that he will go past the mailbox a point M.\n",
    "\n",
    "![WALK](walkExample.png)"
   ]
  },
  {
   "cell_type": "code",
   "execution_count": null,
   "id": "23849c45-6213-4f72-a514-21a45d8d8d7a",
   "metadata": {},
   "outputs": [],
   "source": [
    "import random as rd\n",
    "import numpy as np\n",
    "import pandas as pd\n",
    "\n",
    "for trial in range(10): # We do 10 trials of the simulation \n",
    "    numberIterations = 100000 # This is the number of iterations for each simulation.\n",
    "    count=0\n",
    "    movesv = np.repeat(1,6) # 1 for a vertical move\n",
    "    movesh = np.repeat(0,15) # 0 for a horizontal move\n",
    "    moves = np.concatenate((movesv,movesh))\n",
    "    for i in range(numberIterations):\n",
    "        rd.shuffle(moves)\n",
    "        #print(moves)\n",
    "        if np.sum(moves[0:10])==2:\n",
    "            count = count+1\n",
    "            #print(moves)\n",
    "    print(\"Estimated probabilty = \",count/numberIterations)"
   ]
  },
  {
   "cell_type": "markdown",
   "id": "e8fc37a0-fdd6-440e-9659-1c092e19c52b",
   "metadata": {},
   "source": []
  },
  {
   "cell_type": "markdown",
   "id": "649ac750-f7d3-4cc9-a963-7dd7121b0f68",
   "metadata": {},
   "source": [
    "__Example 3:__ Use Monte Carlo simulation to estimate the 90th percentile of the distance between two points chosen at random in the interior of a unit square."
   ]
  },
  {
   "cell_type": "code",
   "execution_count": null,
   "id": "c8179cb0-6558-48a7-86ff-0ebfd5f46489",
   "metadata": {},
   "outputs": [],
   "source": [
    "import random as rd\n",
    "import numpy as np\n",
    "import pandas as pd\n",
    "\n",
    "numberIterations = 10000 # This is the number of iterations for each simulation.\n",
    "d=np.zeros(numberIterations)\n",
    "for i in range(numberIterations):\n",
    "    point1 = [rd.random(), rd.random()] # (x1,y1)\n",
    "    point2 = [rd.random(), rd.random()] # (x2,y2)\n",
    "    d[i] = np.sqrt((point1[0]-point2[0])**2 + (point1[1]-point2[1])**2)\n",
    "D = np.sort(d)\n",
    "percentile = int(0.9*numberIterations)\n",
    "print(percentile)\n",
    "print(D[percentile])"
   ]
  },
  {
   "cell_type": "markdown",
   "id": "1d25d45e-cdce-4721-ad3b-826f1effa9fd",
   "metadata": {},
   "source": []
  },
  {
   "cell_type": "markdown",
   "id": "15b68614-298e-49e5-8df3-45a91b2f6ddd",
   "metadata": {},
   "source": [
    "__Example 4__: Use Monte Carlo simulation to estimate the probability of rolling a total of 10 in a roll of three fair dice. The analytical solution can be found by determining the number of combinations of dice rolls that sum to 10 (there are 27) and dividing this number by the total number of combinations 63 =216. "
   ]
  },
  {
   "cell_type": "code",
   "execution_count": null,
   "id": "7b5bf6a0-b100-482f-8526-9bfcedd2746d",
   "metadata": {},
   "outputs": [],
   "source": [
    "import random as rd\n",
    "import numpy as np\n",
    "import pandas as pd\n",
    "\n",
    "for trial in range(10): # We do 10 trials of the simulation \n",
    "    numberIterations = 10000 # This is the number of iterations for each simulation.\n",
    "    dice = list(range(1,7)) # create a list of 1-6\n",
    "    count=0\n",
    "    for i in range(numberIterations):\n",
    "        roll = rd.choices(dice, k=3)\n",
    "        if np.sum(roll)==10:\n",
    "            count=count+1\n",
    "    print(\"Estimated probabilty = \",count/numberIterations)"
   ]
  },
  {
   "cell_type": "code",
   "execution_count": null,
   "id": "247a0267-55df-41ad-bf91-4fec80ff5912",
   "metadata": {},
   "outputs": [],
   "source": []
  }
 ],
 "metadata": {
  "kernelspec": {
   "display_name": "Python 3 (ipykernel)",
   "language": "python",
   "name": "python3"
  },
  "language_info": {
   "codemirror_mode": {
    "name": "ipython",
    "version": 3
   },
   "file_extension": ".py",
   "mimetype": "text/x-python",
   "name": "python",
   "nbconvert_exporter": "python",
   "pygments_lexer": "ipython3",
   "version": "3.10.9"
  }
 },
 "nbformat": 4,
 "nbformat_minor": 5
}
